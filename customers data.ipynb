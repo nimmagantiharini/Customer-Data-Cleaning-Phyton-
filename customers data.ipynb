{
 "cells": [
  {
   "cell_type": "code",
   "execution_count": 1,
   "id": "fd4d5c8f-b1a1-4042-a540-854c5f528aa0",
   "metadata": {},
   "outputs": [],
   "source": [
    "import pandas as pd"
   ]
  },
  {
   "cell_type": "code",
   "execution_count": 3,
   "id": "b953cd60-5a6a-4973-af4e-0afc69d804e3",
   "metadata": {},
   "outputs": [],
   "source": [
    "df = pd.read_csv(\"Customer personality Analysis1.csv\")"
   ]
  },
  {
   "cell_type": "code",
   "execution_count": 4,
   "id": "766ca30f-df99-4f8c-bb3f-d795574e2925",
   "metadata": {},
   "outputs": [
    {
     "name": "stdout",
     "output_type": "stream",
     "text": [
      "Missing values before cleaning:\n",
      " ID                      0\n",
      "Year_Birth              0\n",
      "Education               0\n",
      "Marital_Status          0\n",
      "Income                 24\n",
      "Kidhome                 0\n",
      "Teenhome                0\n",
      "Dt_Customer             0\n",
      "Recency                 0\n",
      "MntWines                0\n",
      "MntFruits               0\n",
      "MntMeatProducts         0\n",
      "MntFishProducts         0\n",
      "MntSweetProducts        0\n",
      "MntGoldProds            0\n",
      "NumDealsPurchases       0\n",
      "NumWebPurchases         0\n",
      "NumCatalogPurchases     0\n",
      "NumStorePurchases       0\n",
      "NumWebVisitsMonth       0\n",
      "AcceptedCmp3            0\n",
      "AcceptedCmp4            0\n",
      "AcceptedCmp5            0\n",
      "AcceptedCmp1            0\n",
      "AcceptedCmp2            0\n",
      "Complain                0\n",
      "Z_CostContact           0\n",
      "Z_Revenue               0\n",
      "Response                0\n",
      "dtype: int64\n"
     ]
    }
   ],
   "source": [
    "print(\"Missing values before cleaning:\\n\", df.isnull().sum())"
   ]
  },
  {
   "cell_type": "code",
   "execution_count": 5,
   "id": "fdaf29fd-1fc4-449b-8b88-388667aa0a23",
   "metadata": {},
   "outputs": [],
   "source": [
    "df = df.fillna(\"Unknown\")"
   ]
  },
  {
   "cell_type": "code",
   "execution_count": 6,
   "id": "37bdb756-4e83-484a-aaa0-d13224103267",
   "metadata": {},
   "outputs": [],
   "source": [
    "df = df.drop_duplicates()"
   ]
  },
  {
   "cell_type": "code",
   "execution_count": 7,
   "id": "5fd7ea9f-f9cb-43c3-a095-2c35ba1de7f7",
   "metadata": {},
   "outputs": [],
   "source": [
    "if \"Gender\" in df.columns:\n",
    "    df[\"Gender\"] = df[\"Gender\"].astype(str).str.strip().str.capitalize().replace({\n",
    "        \"M\": \"Male\", \"F\": \"Female\"\n",
    "    })"
   ]
  },
  {
   "cell_type": "code",
   "execution_count": 8,
   "id": "a1ad8f92-95ad-4f60-b956-6cafe39dd6ad",
   "metadata": {},
   "outputs": [],
   "source": [
    "if \"Martial_Status\" in df.columns:\n",
    "    df[\"Martial_Status\"] = df[\"Martial_Status\"].astype(str).str.strip().str.capitalize().replace({\n",
    "        \"T\": \"Together\", \"S\": \"Single\" , \"D\": \"Divorced\"\n",
    "    })"
   ]
  },
  {
   "cell_type": "code",
   "execution_count": 9,
   "id": "1a670f98-9fe1-4e34-acff-88c03e1c9ec3",
   "metadata": {},
   "outputs": [],
   "source": [
    "if \"DOB\" in df.columns:\n",
    "    df[\"DOB\"] = pd.to_datetime(df[\"DOB\"], errors=\"coerce\").dt.strftime(\"%d-%m-%Y\")\n"
   ]
  },
  {
   "cell_type": "code",
   "execution_count": 10,
   "id": "ae18b9fa-8970-4941-b94f-273cf1fbb5ac",
   "metadata": {},
   "outputs": [],
   "source": [
    "df.columns = df.columns.str.lower().str.replace(\" \", \"_\")"
   ]
  },
  {
   "cell_type": "code",
   "execution_count": 11,
   "id": "042b26b3-e547-4a49-8ef7-9dc35d4cafc1",
   "metadata": {},
   "outputs": [],
   "source": [
    "if \"age\" in df.columns:\n",
    "    df[\"age\"] = pd.to_numeric(df[\"age\"], errors=\"coerce\").fillna(0).astype(int)"
   ]
  },
  {
   "cell_type": "code",
   "execution_count": 12,
   "id": "d62417f1-3121-44aa-bfb6-046821a7b518",
   "metadata": {},
   "outputs": [],
   "source": [
    "for col in df.columns:\n",
    "    if \"date\" in col or \"dob\" in col:\n",
    "        df[col] = pd.to_datetime(df[col], errors=\"coerce\")\n"
   ]
  },
  {
   "cell_type": "code",
   "execution_count": 15,
   "id": "067b3321-2da7-4fce-8bed-1b58c9e65fa6",
   "metadata": {},
   "outputs": [],
   "source": [
    "df.to_csv(\"Customers_data.csv\", index=False)\n"
   ]
  },
  {
   "cell_type": "code",
   "execution_count": 16,
   "id": "bda50f00-61fe-46be-8259-11c5324ec5d8",
   "metadata": {},
   "outputs": [
    {
     "name": "stdout",
     "output_type": "stream",
     "text": [
      "Data cleaning complete. Cleaned file saved as Customers_data.csv\n"
     ]
    }
   ],
   "source": [
    "print(\"Data cleaning complete. Cleaned file saved as Customers_data.csv\")"
   ]
  },
  {
   "cell_type": "code",
   "execution_count": null,
   "id": "d1fa5441-0502-47e9-8991-ce03c10bc08e",
   "metadata": {},
   "outputs": [],
   "source": []
  }
 ],
 "metadata": {
  "kernelspec": {
   "display_name": "Python 3 (ipykernel)",
   "language": "python",
   "name": "python3"
  },
  "language_info": {
   "codemirror_mode": {
    "name": "ipython",
    "version": 3
   },
   "file_extension": ".py",
   "mimetype": "text/x-python",
   "name": "python",
   "nbconvert_exporter": "python",
   "pygments_lexer": "ipython3",
   "version": "3.13.5"
  }
 },
 "nbformat": 4,
 "nbformat_minor": 5
}
